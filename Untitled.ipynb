{
 "cells": [
  {
   "cell_type": "code",
   "execution_count": 11,
   "metadata": {},
   "outputs": [],
   "source": [
    "#Application\n",
    "from fastai.vision import *\n",
    "from fastai import *\n",
    "import numpy as np\n",
    "from pathlib import Path\n",
    "import matplotlib.pyplot as plt \n",
    "import cv2 as cv\n",
    "import os\n",
    "from IPython.display import clear_output\n",
    "#learn = cnn_learner(data, models.resnet34, metrics=error_rate)\n",
    "np.random.seed(42)\n",
    "path=Path('/home/mobiliser/Python Scripts/DL/male female  db')\n",
    "data2 = ImageDataBunch.single_from_classes(path/'models', classes=['Female', 'Male'],ds_tfms=get_transforms(), size=224).normalize(imagenet_stats)\n",
    "learn = cnn_learner(data2, models.resnet34, metrics=error_rate)\n",
    "learn.load(path/'models/l1')\n",
    "\n",
    "def square(arr):\n",
    "    s=min(arr.shape[0],arr.shape[1])\n",
    "    h,w=arr.shape[0],arr.shape[1]\n",
    "    arr=arr[int((h-s)/2):int((h-s)/2+s),int((w-s)/2):int((w-s)/2+s)]\n",
    "    return arr\n",
    "def show(img):\n",
    "    plt.imshow(img)\n",
    "    plt.xticks([])\n",
    "    plt.yticks([])\n",
    "    return img\n",
    "def prediction(img):\n",
    "    plt.imsave(path/'temp/img.png',img)\n",
    "    img=open_image(path/'temp/img.png')\n",
    "    p=learn.predict(img)\n",
    "    os.remove(path/'temp/img.png')\n",
    "    \n",
    "    return p\n",
    "def capture_image(live_prediction=False):\n",
    "    img=0\n",
    "    cam=cv.VideoCapture(0)  \n",
    "    cam.set(cv.CAP_PROP_FRAME_WIDTH,400)\n",
    "    cam.set(cv.CAP_PROP_FRAME_HEIGHT,400)\n",
    "    \n",
    "    t=0\n",
    "    while cam.isOpened():\n",
    "        t=t+1\n",
    "        ret,frame=cam.read()\n",
    "        frame=cv.resize(square(frame),(400,400))\n",
    "        frame=cv.flip(frame,1)\n",
    "        \n",
    "        if ret==True:\n",
    "            cv.imshow('Live Cam',frame)\n",
    "            if cv.waitKey(15) & 0xFF == ord('q'):\n",
    "                print('\\'q\\' pressed.')\n",
    "                break\n",
    "            elif cv.waitKey(15) & 0xFF == ord('s'):\n",
    "                print('\\'s\\' pressed.')\n",
    "                img=frame   \n",
    "                \n",
    "        else: \n",
    "            break\n",
    "        \n",
    "        if live_prediction:\n",
    "            if t==50:\n",
    "                clear_output()\n",
    "                pp=prediction(frame)\n",
    "                print(str(pp[0])+f', with surity of {int(pp[-1][pp[1].item()]*10000)/100}%')\n",
    "                t=0\n",
    "             \n",
    "            \n",
    "#     '''\n",
    "#     ord('q') returns the Unicode code point of q\n",
    "#     cv2.waitkey(1) returns a 32-bit integer corresponding to the pressed key\n",
    "#     & 0xFF is a bit mask which sets the left 24 bits to zero, because ord() returns a value betwen 0 and 255, since your keyboard only has a limited character set\n",
    "#     Therefore, once the mask is applied, it is then possible to check if it is the corresponding key.\n",
    "#     '''q\n",
    "    cam.release()\n",
    "    cv.destroyAllWindows()\n",
    "    print('Camera closed.')\n",
    "    if type(img)==type(0):\n",
    "        return\n",
    "    img=cv.cvtColor(img, cv.COLOR_BGR2RGB)\n",
    "    \n",
    "    return img\n"
   ]
  },
  {
   "cell_type": "code",
   "execution_count": 12,
   "metadata": {},
   "outputs": [
    {
     "name": "stdout",
     "output_type": "stream",
     "text": [
      "Male, with surity of 86.23%\n",
      "'q' pressed.\n",
      "Camera closed.\n"
     ]
    }
   ],
   "source": [
    "capture_image(live_prediction=True)"
   ]
  },
  {
   "cell_type": "code",
   "execution_count": null,
   "metadata": {},
   "outputs": [],
   "source": []
  }
 ],
 "metadata": {
  "kernelspec": {
   "display_name": "Python 3",
   "language": "python",
   "name": "python3"
  },
  "language_info": {
   "codemirror_mode": {
    "name": "ipython",
    "version": 3
   },
   "file_extension": ".py",
   "mimetype": "text/x-python",
   "name": "python",
   "nbconvert_exporter": "python",
   "pygments_lexer": "ipython3",
   "version": "3.6.8"
  }
 },
 "nbformat": 4,
 "nbformat_minor": 2
}
